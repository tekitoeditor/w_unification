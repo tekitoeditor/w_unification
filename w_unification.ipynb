{
 "cells": [
  {
   "cell_type": "markdown",
   "id": "tender-cleanup",
   "metadata": {},
   "source": [
    "# Wordファイルを自動で表記統一するスクリプト"
   ]
  },
  {
   "cell_type": "markdown",
   "id": "working-basement",
   "metadata": {},
   "source": [
    "## 使い方"
   ]
  },
  {
   "cell_type": "markdown",
   "id": "isolated-hybrid",
   "metadata": {},
   "source": [
    "- 原稿を「before.docx」という名前で作成\n",
    "- 「unification.csv」を編集して好きなルールを作成\n",
    "- 原稿と表記統一ルールを本スクリプトと同じディレクトリに移動\n",
    "- 以下のコードを実行\n",
    "- 「after.docx」という名前の表記統一済みファイルが自動でできる"
   ]
  },
  {
   "cell_type": "code",
   "execution_count": 2,
   "id": "cognitive-astrology",
   "metadata": {},
   "outputs": [],
   "source": [
    "import pandas as pd\n",
    "import docx\n",
    "\n",
    "fr_doc = docx.Document('before.docx')\n",
    "\n",
    "df = pd.read_csv('word_unification.csv')\n",
    "\n",
    "for para in fr_doc.paragraphs:\n",
    "    for d in df.iterrows():\n",
    "        t = para.text\n",
    "        t = t.replace(d[1][0], d[1][1])\n",
    "        para.text = t\n",
    "        fr_doc.save('after.docx')"
   ]
  },
  {
   "cell_type": "code",
   "execution_count": null,
   "id": "interesting-timeline",
   "metadata": {},
   "outputs": [],
   "source": []
  }
 ],
 "metadata": {
  "kernelspec": {
   "name": "python3",
   "display_name": "Python 3.9.5 64-bit"
  },
  "language_info": {
   "codemirror_mode": {
    "name": "ipython",
    "version": 3
   },
   "file_extension": ".py",
   "mimetype": "text/x-python",
   "name": "python",
   "nbconvert_exporter": "python",
   "pygments_lexer": "ipython3",
   "version": "3.9.5"
  },
  "interpreter": {
   "hash": "7812ea015bdcee6f23a998adcdd2ef97c151c0c241b7b7070987d9313e41299d"
  }
 },
 "nbformat": 4,
 "nbformat_minor": 5
}